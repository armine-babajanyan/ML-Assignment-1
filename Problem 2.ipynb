{
 "cells": [
  {
   "cell_type": "code",
   "execution_count": null,
   "id": "0bd13688",
   "metadata": {},
   "outputs": [],
   "source": [
    "import numpy as np\n",
    "import pandas as pd\n",
    "import matplotlib.pyplot as plt"
   ]
  },
  {
   "cell_type": "code",
   "execution_count": null,
   "id": "40f5d4bb",
   "metadata": {},
   "outputs": [],
   "source": [
    "X = np.array([5.6, 7.2, 3.1, 4.4, 1.0, 6.7, 1.2, 5.4, 9.8, 2.2, 3.5, 20.0, 17.6, 1.3, 1.7, 2.4, 5.4, 6.8, 4.9, 19.0])\n",
    "Y = np.array([75000, 120000, 47000, 37000, 16000, 140000, 14000, 80000, 150000, 16000, 50000, 160000, 165000, 17500, 20000, 20000, \n",
    "              84000, 93000, 75000, 140000])\n",
    "\n",
    "\n",
    "plt.scatter(X,Y)\n",
    "plt.show()"
   ]
  },
  {
   "cell_type": "code",
   "execution_count": null,
   "id": "996c06ac",
   "metadata": {},
   "outputs": [],
   "source": [
    "X_mean, X_std = np.mean(X), np.std(X)\n",
    "Y_mean, Y_std = np.mean(Y), np.std(Y)\n",
    "X_norm = (X - X_mean) / X_std\n",
    "Y_norm = (Y - Y_mean) / Y_std\n",
    "\n",
    "m = 0  # Slope\n",
    "b = 0  # Intercept\n",
    "learning_rate = 0.01\n",
    "num_iterations = 500\n",
    "\n",
    "for i in range(num_iterations):\n",
    "    Y_pred = m * X_norm + b\n",
    "    error = Y_pred - Y_norm\n",
    "    \n",
    "    grad_m = (2 / len(X)) * np.sum(error * X_norm)\n",
    "    grad_b = (2 / len(X)) * np.sum(error)\n",
    "    \n",
    "    m -= learning_rate * grad_m\n",
    "    b -= learning_rate * grad_b\n",
    "    \n",
    "    if i % 100 == 0:\n",
    "        loss = np.mean(error ** 2)\n",
    "        print(f\"Iteration {i}: Loss = {loss:.4f}\")\n",
    "\n",
    "m_real = (Y_std / X_std) * m\n",
    "b_real = Y_mean - m_real * X_mean\n",
    "\n",
    "print(f\"Final model: Y = {m_real:.2f}X + {b_real:.2f}\")\n",
    "\n",
    "plt.scatter(X, Y, color='blue', label='Actual Data')\n",
    "plt.plot(X, m_real * X + b_real, color='red', label='Regression Line')\n",
    "plt.xlabel(\"X\")\n",
    "plt.ylabel(\"Y\")\n",
    "plt.legend()\n",
    "plt.title(\"Linear Regression using Gradient Descent\")\n",
    "plt.show()"
   ]
  }
 ],
 "metadata": {
  "kernelspec": {
   "display_name": "Python 3 (ipykernel)",
   "language": "python",
   "name": "python3"
  },
  "language_info": {
   "codemirror_mode": {
    "name": "ipython",
    "version": 3
   },
   "file_extension": ".py",
   "mimetype": "text/x-python",
   "name": "python",
   "nbconvert_exporter": "python",
   "pygments_lexer": "ipython3",
   "version": "3.11.5"
  }
 },
 "nbformat": 4,
 "nbformat_minor": 5
}
