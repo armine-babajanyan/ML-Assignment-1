{
 "cells": [
  {
   "cell_type": "code",
   "execution_count": 12,
   "id": "ccb051c3",
   "metadata": {},
   "outputs": [],
   "source": [
    "import numpy as np\n",
    "import matplotlib.pyplot as plt\n",
    "from sklearn import datasets\n",
    "from sklearn.model_selection import train_test_split, StratifiedShuffleSplit, GridSearchCV\n",
    "from sklearn.preprocessing import StandardScaler\n",
    "from sklearn.svm import SVC\n",
    "from sklearn.metrics import accuracy_score"
   ]
  },
  {
   "cell_type": "code",
   "execution_count": 13,
   "id": "6092724d",
   "metadata": {},
   "outputs": [
    {
     "name": "stdout",
     "output_type": "stream",
     "text": [
      "Test Accuracy: 0.9800\n"
     ]
    }
   ],
   "source": [
    "mnist = datasets.fetch_openml('mnist_784', version=1, as_frame=False)\n",
    "X, y = mnist.data, mnist.target.astype(np.uint8)  # Convert y to integer\n",
    "\n",
    "n_samples = 1000  # Here we can change the number of samples to see the result\n",
    "\n",
    "split = StratifiedShuffleSplit(n_splits=1, test_size=0.05, random_state=42)\n",
    "for train_idx, test_idx in split.split(X[:n_samples], y[:n_samples]):\n",
    "    X_train, X_test = X[train_idx], X[test_idx]\n",
    "    y_train, y_test = y[train_idx], y[test_idx]\n",
    "\n",
    "# Scale the data for better SVM performance\n",
    "scaler = StandardScaler()\n",
    "X_train = scaler.fit_transform(X_train)\n",
    "X_test = scaler.transform(X_test)\n",
    "\n",
    "# Use an SVM classifier with the one-vs-all strategy\n",
    "svm_clf = SVC(kernel='rbf', C=10, gamma=0.001)  # Tune C and gamma for better performance\n",
    "svm_clf.fit(X_train, y_train)\n",
    "\n",
    "# Predict on test set\n",
    "y_pred = svm_clf.predict(X_test)\n",
    "\n",
    "# Evaluate accuracy\n",
    "accuracy = accuracy_score(y_test, y_pred)\n",
    "print(f\"Test Accuracy: {accuracy:.4f}\")"
   ]
  },
  {
   "cell_type": "code",
   "execution_count": 14,
   "id": "5c71120a",
   "metadata": {},
   "outputs": [
    {
     "name": "stdout",
     "output_type": "stream",
     "text": [
      "Best parameters: {'C': 10, 'gamma': 0.001}\n"
     ]
    }
   ],
   "source": [
    "param_grid = {\n",
    "    'C': [1, 10, 100],\n",
    "    'gamma': [0.01, 0.001]\n",
    "}\n",
    "grid_search = GridSearchCV(SVC(kernel='rbf'), param_grid, cv=3, n_jobs=-1)\n",
    "grid_search.fit(X_train[:5000], y_train[:5000])  # Use a subset for speed\n",
    "\n",
    "print(\"Best parameters:\", grid_search.best_params_)"
   ]
  },
  {
   "cell_type": "code",
   "execution_count": null,
   "id": "0bdf409b",
   "metadata": {},
   "outputs": [],
   "source": []
  }
 ],
 "metadata": {
  "kernelspec": {
   "display_name": "Python 3 (ipykernel)",
   "language": "python",
   "name": "python3"
  },
  "language_info": {
   "codemirror_mode": {
    "name": "ipython",
    "version": 3
   },
   "file_extension": ".py",
   "mimetype": "text/x-python",
   "name": "python",
   "nbconvert_exporter": "python",
   "pygments_lexer": "ipython3",
   "version": "3.11.5"
  }
 },
 "nbformat": 4,
 "nbformat_minor": 5
}
